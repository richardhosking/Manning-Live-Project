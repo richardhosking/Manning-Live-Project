{
 "cells": [
  {
   "cell_type": "code",
   "execution_count": 130,
   "metadata": {},
   "outputs": [],
   "source": [
    "\"\"\"\n",
    "Live Project Deliverable 2.2 \n",
    "For each story and their corresponding summaries\n",
    "\n",
    "    Calculate the ROUGE score between each sentence of the story and each of the summaries corresponding to the story\n",
    "    Grab the top five sentences from the story with respect to their ROUGE F1-score and return them as a list\n",
    "    Return the ROUGE F1-score of those top five sentences as a list\n",
    "\n",
    "\"\"\"\n",
    "\n",
    "import string \n",
    "import os\n",
    "import rouge\n",
    "from rouge_score import rouge_scorer\n",
    "import pickle\n",
    "#import pdb # For Debugging"
   ]
  },
  {
   "cell_type": "code",
   "execution_count": 131,
   "metadata": {},
   "outputs": [],
   "source": [
    "# Working directories \n",
    "workingDirectory = '/home/richard/Desktop/Python Live Project/test'\n",
    "cleanDirectory = workingDirectory+'/cleaned/'\n",
    "\n",
    "# Make directory for cleaned data\n",
    "os.chdir(workingDirectory)\n",
    "if os.path.isdir(cleanDirectory):\n",
    "    pass\n",
    "else:\n",
    "    os.mkdir(cleanDirectory)\n",
    "    \n",
    "os.chdir(cleanDirectory)    \n"
   ]
  },
  {
   "cell_type": "code",
   "execution_count": 132,
   "metadata": {},
   "outputs": [],
   "source": [
    "# ROUGE scorer\n",
    "scorer = rouge_scorer.RougeScorer(['rouge1', 'rougeL'], use_stemmer=False)\n",
    "\n",
    "# Open Master List of formatted stories with sentences and summaries \n",
    "with open ('dict.pkl', 'rb') as fp:\n",
    "    itemlist = pickle.load(fp)\n",
    "    \n",
    "    # Add a Dictionary to the Master List for each story for the ROUGE scores\n",
    "    # Iterate through the master list\n",
    "    for story in itemlist:\n",
    "        # Dictionary to contain Rouge scores and index of sentence \n",
    "        rougeList = {}\n",
    "        # Add to story Dictionary \n",
    "        story[\"ROUGE\"] = rougeList\n",
    "        story[\"BestFive\"] = []\n",
    "\n",
    "        for summary in story[\"summaries\"]:\n",
    "            #print(\"Summary:  \",summary) \n",
    "            for sentence in story[\"news\"]:\n",
    "                # Calculate ROUGE score\n",
    "                scores = scorer.score(summary, sentence)\n",
    "                sentenceScore = scores[\"rouge1\"][2]  # the F score\n",
    "                sentenceIndex = story[\"news\"].index(sentence)\n",
    "                # Add these to the ROUGE dictionary\n",
    "                # If dictionary is empty or \n",
    "                # If dictionary key pair not present    \n",
    "                if not sentenceIndex in rougeList:\n",
    "                    rougeList[sentenceIndex] = sentenceScore\n",
    "                #  Otherwise if current sentence score is higher than previous summary/news comparison\n",
    "                # Save higher score\n",
    "                if rougeList[sentenceIndex] < sentenceScore:\n",
    "                    rougeList[sentenceIndex] = sentenceScore\n",
    "\n",
    "        # Extract top 5 sentences from stories\n",
    "        # use dictionary sorted method\n",
    "        bestFive = sorted(rougeList, key=rougeList.get, reverse=True)[:5]\n",
    "        \n",
    "        # Create a list to add to the master list \n",
    "        bestFiveList = []\n",
    "        for index in bestFive:\n",
    "            bestFiveList.append(story[\"news\"][index])\n",
    "            BFstring = (\"News sentence no: \",index, \":\", \"ROUGE Score: \", rougeList.get(index))\n",
    "            bestFiveList.append(BFstring)\n",
    "        story[\"BestFive\"] = bestFiveList"
   ]
  },
  {
   "cell_type": "code",
   "execution_count": 133,
   "metadata": {},
   "outputs": [],
   "source": [
    "with open(cleanDirectory + 'dictrouge.pkl', 'wb') as fp:\n",
    "    pickle.dump(itemlist, fp)"
   ]
  },
  {
   "cell_type": "code",
   "execution_count": 134,
   "metadata": {},
   "outputs": [],
   "source": [
    "import pandas as pd"
   ]
  },
  {
   "cell_type": "code",
   "execution_count": 135,
   "metadata": {},
   "outputs": [],
   "source": [
    "stories = pd.DataFrame(itemlist) "
   ]
  },
  {
   "cell_type": "code",
   "execution_count": 138,
   "metadata": {},
   "outputs": [],
   "source": [
    "with open(cleanDirectory + 'dictDataFrame.pkl', 'wb') as fp:\n",
    "    pickle.dump(stories, fp)"
   ]
  },
  {
   "cell_type": "code",
   "execution_count": null,
   "metadata": {},
   "outputs": [],
   "source": []
  }
 ],
 "metadata": {
  "kernelspec": {
   "display_name": "Python 3",
   "language": "python",
   "name": "python3"
  },
  "language_info": {
   "codemirror_mode": {
    "name": "ipython",
    "version": 3
   },
   "file_extension": ".py",
   "mimetype": "text/x-python",
   "name": "python",
   "nbconvert_exporter": "python",
   "pygments_lexer": "ipython3",
   "version": "3.8.5"
  }
 },
 "nbformat": 4,
 "nbformat_minor": 4
}
